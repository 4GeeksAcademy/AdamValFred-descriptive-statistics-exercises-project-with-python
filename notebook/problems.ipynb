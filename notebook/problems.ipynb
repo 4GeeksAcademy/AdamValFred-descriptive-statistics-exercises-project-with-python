{
    "cells": [
        {
            "cell_type": "markdown",
            "id": "ac622319",
            "metadata": {},
            "source": [
                "# Descriptive statistics problems"
            ]
        },
        {
            "cell_type": "markdown",
            "id": "5e0ab0d5",
            "metadata": {},
            "source": [
                "### Exercise 1\n",
                "\n",
                "We will use NumPy to obtain information to describe statistically.\n",
                "\n",
                "- Generate an array of 100 elements following a normal distribution.\n",
                "- Generate an array of 100 elements following a chi-square distribution with 3 degrees of freedom.\n",
                "- Calculate the main metrics and statistical measures that best describe the two vectors."
            ]
        },
        {
            "cell_type": "code",
            "execution_count": 2,
            "id": "34720ab6",
            "metadata": {},
            "outputs": [
                {
                    "name": "stdout",
                    "output_type": "stream",
                    "text": [
                        "The follwing is an array of 100 elements following a normal distribution / I love fred;\n",
                        "[50.29186523 48.58061193 48.06761568 48.70127003 47.43728811 48.58632914\n",
                        " 50.37852938 51.42105789 48.67917392 49.11102936 51.26289517 49.48464502\n",
                        " 49.52616424 53.05477959 47.57936496 50.42484873 50.78270684 49.32968325\n",
                        " 49.99202977 50.3776739  50.5970991  49.48810716 50.63640384 49.08220918\n",
                        " 48.62853218 50.42543654 51.06686927 49.67235535 49.54873882 49.63512362\n",
                        " 51.39870409 50.35119032 51.14713411 49.41052619 50.55778338 50.11845192\n",
                        " 49.96399846 50.47349249 48.97820419 49.6142309  50.54105938 51.70971437\n",
                        " 48.61855688 50.11700232 50.55455164 49.71898573 48.74939589 48.0870659\n",
                        " 49.37211274 49.25930213 48.90002686 50.53435585 48.67198884 51.08762236\n",
                        " 50.14148805 49.92747887 49.70895345 49.65978343 49.16397861 49.25908724\n",
                        " 50.55185574 49.28095834 51.28757177 50.65909096 51.19740334 47.60657457\n",
                        " 52.43684307 48.66900378 50.86795122 49.92956796 50.57054026 51.88765458\n",
                        " 48.63168782 52.41623177 50.21545518 49.01323431 50.32028495 50.13627792\n",
                        " 50.89838198 48.25721552 51.35553161 49.0634044  51.39360918 49.90619028\n",
                        " 49.97271413 50.48445383 48.26855087 51.84512935 49.07990012 51.02817408\n",
                        " 51.15105565 49.3120809  49.86792866 49.20989308 49.4593043  50.32568525\n",
                        " 51.53959225 51.2975957  50.50085592 50.48145284].\n"
                    ]
                }
            ],
            "source": [
                "import numpy as np\n",
                "from scipy import stats\n",
                "from collections import Counter\n",
                "import matplotlib.pyplot as plt\n",
                "from scipy.stats import kurtosis\n",
                "\n",
                "\n",
                "a = np.random.normal(loc= 50, scale=1, size=100)\n",
                "\n",
                "print(f\"The follwing is an array of 100 elements following a normal distribution / I love fred;\\n{a}.\")\n",
                "\n"
            ]
        },
        {
            "cell_type": "code",
            "execution_count": 3,
            "id": "f22c682c",
            "metadata": {},
            "outputs": [
                {
                    "name": "stdout",
                    "output_type": "stream",
                    "text": [
                        "The mean for the first vector is; 49.980235512135934.\n"
                    ]
                }
            ],
            "source": [
                "mean_of_a = np.mean(a)\n",
                "print(f\"The mean for the first vector is; {mean_of_a}.\")"
            ]
        },
        {
            "cell_type": "code",
            "execution_count": 4,
            "id": "cfaf088e",
            "metadata": {},
            "outputs": [
                {
                    "name": "stdout",
                    "output_type": "stream",
                    "text": [
                        "The median for the first vector is; 49.980235512135934.\n"
                    ]
                }
            ],
            "source": [
                "median_of_a = np.median(a)\n",
                "print(f\"The median for the first vector is; {mean_of_a}.\")"
            ]
        },
        {
            "cell_type": "code",
            "execution_count": 5,
            "id": "50b62f52",
            "metadata": {},
            "outputs": [
                {
                    "name": "stdout",
                    "output_type": "stream",
                    "text": [
                        "The mode for the first vector is; ModeResult(mode=np.float64(47.43728811039171), count=np.int64(1)).\n"
                    ]
                }
            ],
            "source": [
                "mode_of_a = stats.mode(a)\n",
                "print(f\"The mode for the first vector is; {mode_of_a}.\")"
            ]
        },
        {
            "cell_type": "code",
            "execution_count": 6,
            "id": "15c3081a",
            "metadata": {},
            "outputs": [
                {
                    "name": "stdout",
                    "output_type": "stream",
                    "text": [
                        "The range for the first vector is; 5.617491475582668.\n"
                    ]
                }
            ],
            "source": [
                "range_of_a = max(a) - min(a)\n",
                "print(f\"The range for the first vector is; {range_of_a}.\")"
            ]
        },
        {
            "cell_type": "code",
            "execution_count": 7,
            "id": "00c4d160",
            "metadata": {},
            "outputs": [
                {
                    "name": "stdout",
                    "output_type": "stream",
                    "text": [
                        "The variance for the first vector is; 1.237207398988335.\n",
                        "\n",
                        "The standard deviation for the first vector is; 1.117901804016149.\n"
                    ]
                }
            ],
            "source": [
                "variance_of_a = stats.moment(a, moment= 2)\n",
                "sd_of_a = stats.tstd(a)\n",
                "\n",
                "print(f\"The variance for the first vector is; {variance_of_a}.\")\n",
                "print(f\"\\nThe standard deviation for the first vector is; {sd_of_a}.\")"
            ]
        },
        {
            "cell_type": "code",
            "execution_count": 8,
            "id": "ae9a6907",
            "metadata": {},
            "outputs": [
                {
                    "name": "stdout",
                    "output_type": "stream",
                    "text": [
                        "The first vector can be illustrated in Percentile position measure, 50.60692528455414 is at the 75th percentile,\n",
                        "49.19841446250355 is at the 25th percentile and\n",
                        "49.98237195016157 is at the 50th percentile.\n"
                    ]
                }
            ],
            "source": [
                "percentile_75 = np.percentile(a, 75)\n",
                "percentile_25 = np.percentile(a, 25)\n",
                "percentile_50 = np.percentile(a, 50)\n",
                "\n",
                "\n",
                "\n",
                "print(f\"The first vector can be illustrated in Percentile position measure, {percentile_75} is at the 75th percentile,\")\n",
                "print(f\"{percentile_25} is at the 25th percentile and\") \n",
                "print(f\"{percentile_50} is at the 50th percentile.\")\n",
                "\n"
            ]
        },
        {
            "cell_type": "code",
            "execution_count": 9,
            "id": "0c81f677",
            "metadata": {},
            "outputs": [
                {
                    "data": {
                        "image/png": "[encoded data removed]",
                        "text/plain": [
                            "<Figure size 1000x500 with 1 Axes>"
                        ]
                    },
                    "metadata": {},
                    "output_type": "display_data"
                }
            ],
            "source": [
                "a = np.random.normal(loc= 50, scale=1, size=100)\n",
                "\n",
                "plt.figure(figsize = (10, 5))\n",
                "\n",
                "plt.hist(a, bins = 30, alpha = 0.7)\n",
                "\n",
                "plt.title(\"Appears to resemble Symmetrical Normal Distribution - Shape Measure of Vector 1 \")\n",
                "plt.show()\n",
                "\n"
            ]
        },
        {
            "cell_type": "code",
            "execution_count": 10,
            "id": "ee17d792",
            "metadata": {},
            "outputs": [
                {
                    "name": "stdout",
                    "output_type": "stream",
                    "text": [
                        "The kurtosis measurement of Vector 1 is; 0.38958897591829134 which is very close to normal distribution\n"
                    ]
                }
            ],
            "source": [
                "kurtosis_of_vector_a = kurtosis(a)\n",
                "\n",
                "print(f\"The kurtosis measurement of Vector 1 is; {kurtosis_of_vector_a} which is very close to normal distribution\")"
            ]
        },
        {
            "cell_type": "code",
            "execution_count": 11,
            "id": "026d48b8",
            "metadata": {},
            "outputs": [
                {
                    "name": "stdout",
                    "output_type": "stream",
                    "text": [
                        "The follwing is an array of 100 elements following a chi-square distribution with 3 degrees of freedom; \n",
                        " [ 4.96507379  0.29398397  2.02520541  4.55628261  0.60792937  3.96003752\n",
                        "  0.26775134  3.58244149  5.10322441  8.75301034  6.72538118  0.96944246\n",
                        "  4.04137224  8.94016706  3.26226288  2.87991041  1.71019815  6.13290865\n",
                        "  2.09741114  1.27868958  3.39220505  2.1938252   0.63961099  2.21865293\n",
                        "  7.88714759  2.50784386  1.93181339  0.94237912  2.17058489  2.73765721\n",
                        "  0.60580585  5.24255032  0.26184536  1.77312981  4.1688701   1.96525691\n",
                        "  5.58526248  6.19306459  5.67921218  2.42943779  1.73152572  1.15998037\n",
                        "  1.00293911  4.40820462  0.89607542  3.71392362  0.8764332   4.59047742\n",
                        "  1.97556052  3.08250856  3.33891914  2.97120158  0.2954326   1.58078212\n",
                        "  2.13416835  0.19715882  6.54374281  1.54418321  1.99828361  0.78900347\n",
                        "  1.34310065  5.13572289  0.75614908  4.39333933  2.69417104  0.12260094\n",
                        "  1.43773426  0.55123495  2.73584235  2.74535241  1.09318043  2.32586133\n",
                        "  3.33524639  2.07628369  1.23554206  2.55174163  4.29866397  0.38230196\n",
                        "  0.34632542  9.29822959  4.93495387  5.72526776  2.55685664  1.44058557\n",
                        "  1.76451459  0.97101494  3.55822804  2.8356292   0.51316592  6.93848373\n",
                        "  3.2319402   3.17029774  1.2407691  10.38984416  5.16009652  4.44470866\n",
                        "  1.94043395  2.78195913  0.71508824  1.87776312]\n"
                    ]
                }
            ],
            "source": [
                "b = np.random.chisquare(df= 3, size= 100)\n",
                "\n",
                "print(f\"The follwing is an array of 100 elements following a chi-square distribution with 3 degrees of freedom; \\n {b}\")"
            ]
        },
        {
            "cell_type": "code",
            "execution_count": 12,
            "id": "5ff84bff",
            "metadata": {},
            "outputs": [
                {
                    "name": "stdout",
                    "output_type": "stream",
                    "text": [
                        "The mean for the second vector is; 2.9255956932243943.\n"
                    ]
                }
            ],
            "source": [
                "mean_of_b = np.mean(b)\n",
                "print(f\"The mean for the second vector is; {mean_of_b}.\")"
            ]
        },
        {
            "cell_type": "code",
            "execution_count": 13,
            "id": "12f7f8f7",
            "metadata": {},
            "outputs": [
                {
                    "name": "stdout",
                    "output_type": "stream",
                    "text": [
                        "The median for the second vector is; 2.9255956932243943.\n"
                    ]
                }
            ],
            "source": [
                "median_of_b = np.median(b)\n",
                "print(f\"The median for the second vector is; {mean_of_b}.\")"
            ]
        },
        {
            "cell_type": "code",
            "execution_count": 14,
            "id": "a877b62f",
            "metadata": {},
            "outputs": [
                {
                    "name": "stdout",
                    "output_type": "stream",
                    "text": [
                        "The mode for the second vector is; ModeResult(mode=np.float64(0.1226009411073297), count=np.int64(1)).\n"
                    ]
                }
            ],
            "source": [
                "mode_of_b = stats.mode(b)\n",
                "print(f\"The mode for the second vector is; {mode_of_b}.\")"
            ]
        },
        {
            "cell_type": "code",
            "execution_count": 21,
            "id": "2978abea",
            "metadata": {},
            "outputs": [
                {
                    "name": "stdout",
                    "output_type": "stream",
                    "text": [
                        "The range for the second vector is; 13.429836544033881.\n"
                    ]
                }
            ],
            "source": [
                "range_of_b = max(b) - min(b)\n",
                "print(f\"The range for the second vector is; {range_of_b}.\")"
            ]
        },
        {
            "cell_type": "code",
            "execution_count": 16,
            "id": "6a23e01e",
            "metadata": {},
            "outputs": [
                {
                    "name": "stdout",
                    "output_type": "stream",
                    "text": [
                        "The variance for the second vector is; 4.906420565453245.\n",
                        "\n",
                        "The standard deviation for the second vector is; 2.2262031284554182.\n"
                    ]
                }
            ],
            "source": [
                "variance_of_b = stats.moment(b, moment= 2)\n",
                "sd_of_b = stats.tstd(b)\n",
                "\n",
                "print(f\"The variance for the second vector is; {variance_of_b}.\")\n",
                "print(f\"\\nThe standard deviation for the second vector is; {sd_of_b}.\")"
            ]
        },
        {
            "cell_type": "code",
            "execution_count": 17,
            "id": "165715ae",
            "metadata": {},
            "outputs": [
                {
                    "name": "stdout",
                    "output_type": "stream",
                    "text": [
                        "The second vector can also be illustrated in Percentile position measure, 4.201318565414445 is at the 75th percentile,\n",
                        "1.2394623382198244 is at the 25th percentile and\n",
                        "2.3776495600766623 is at the 50th percentile.\n"
                    ]
                }
            ],
            "source": [
                "percentile_75_b = np.percentile(b, 75)\n",
                "percentile_25_b = np.percentile(b, 25)\n",
                "percentile_50_b = np.percentile(b, 50)\n",
                "\n",
                "\n",
                "\n",
                "print(f\"The second vector can also be illustrated in Percentile position measure, {percentile_75_b} is at the 75th percentile,\")\n",
                "print(f\"{percentile_25_b} is at the 25th percentile and\") \n",
                "print(f\"{percentile_50_b} is at the 50th percentile.\")\n"
            ]
        },
        {
            "cell_type": "code",
            "execution_count": 18,
            "id": "d2f3ddb1",
            "metadata": {},
            "outputs": [
                {
                    "data": {
                        "image/png": "[encoded data removed]",
                        "text/plain": [
                            "<Figure size 1000x500 with 1 Axes>"
                        ]
                    },
                    "metadata": {},
                    "output_type": "display_data"
                },
                {
                    "name": "stdout",
                    "output_type": "stream",
                    "text": [
                        "Explanation for this would be, because of the smaller sample size and the degree of freedom is 3 which is\n",
                        " a moderate skew thus making the graph appear to look like a normal distribution on the histogram.\n"
                    ]
                }
            ],
            "source": [
                "b = np.random.chisquare(df= 3, size= 100)\n",
                "\n",
                "plt.figure(figsize = (10, 5))\n",
                "\n",
                "plt.hist(a, bins = 30, alpha = 0.7)\n",
                "\n",
                "plt.title(\"Appears to mimic normal distribution bell curve - Shape Measure of Vector B \")\n",
                "plt.show()\n",
                "\n",
                "print(f\"Explanation for this would be, because of the smaller sample size and the degree of freedom is 3 which is\\n a moderate skew thus making the graph appear to look like a normal distribution on the histogram.\")\n",
                "\n"
            ]
        },
        {
            "cell_type": "code",
            "execution_count": 22,
            "id": "1fc81d8c",
            "metadata": {},
            "outputs": [
                {
                    "name": "stdout",
                    "output_type": "stream",
                    "text": [
                        "The kurtosis measurement of Vector 2 is; 1.717134837192745.\n"
                    ]
                }
            ],
            "source": [
                "kurtosis_of_vector_b = kurtosis(b)\n",
                "\n",
                "print(f\"The kurtosis measurement of Vector 2 is; {kurtosis_of_vector_b}.\")"
            ]
        },
        {
            "cell_type": "markdown",
            "id": "46c70c3d",
            "metadata": {},
            "source": [
                "### Exercise 2\n",
                "\n",
                "Write a Python program to calculate the standard deviation of the following data:\n",
                "\n",
                "```py\n",
                "data = [4, 2, 5, 8, 6]\n",
                "```"
            ]
        },
        {
            "cell_type": "code",
            "execution_count": 20,
            "id": "d590308e",
            "metadata": {},
            "outputs": [
                {
                    "name": "stdout",
                    "output_type": "stream",
                    "text": [
                        "The standard deviation for the data above is 2.0.\n"
                    ]
                }
            ],
            "source": [
                "x = [4, 2, 5, 8, 6]\n",
                "sd_x = np.std(x)\n",
                "\n",
                "print(f\"The standard deviation for the data above is {sd_x}.\")\n",
                "\n",
                "\n"
            ]
        },
        {
            "cell_type": "code",
            "execution_count": 28,
            "id": "95ae4337",
            "metadata": {},
            "outputs": [
                {
                    "ename": "NameError",
                    "evalue": "name 'std_dev' is not defined",
                    "output_type": "error",
                    "traceback": [
                        "\u001b[0;31m---------------------------------------------------------------------------\u001b[0m",
                        "\u001b[0;31mNameError\u001b[0m                                 Traceback (most recent call last)",
                        "Cell \u001b[0;32mIn[28], line 6\u001b[0m\n\u001b[1;32m      3\u001b[0m \u001b[38;5;28;01mdef\u001b[39;00m\u001b[38;5;250m \u001b[39m\u001b[38;5;21mcustom_std_dev\u001b[39m(y):\n\u001b[1;32m      5\u001b[0m     std_dev \u001b[38;5;241m=\u001b[39m custom_std_dev(y)\n\u001b[0;32m----> 6\u001b[0m \u001b[38;5;28mprint\u001b[39m(\u001b[38;5;124mf\u001b[39m\u001b[38;5;124m'\u001b[39m\u001b[38;5;124mThe standard deviation is \u001b[39m\u001b[38;5;132;01m{\u001b[39;00m\u001b[43mstd_dev\u001b[49m\u001b[38;5;132;01m}\u001b[39;00m\u001b[38;5;124m'\u001b[39m)\n",
                        "\u001b[0;31mNameError\u001b[0m: name 'std_dev' is not defined"
                    ]
                }
            ],
            "source": [
                "y = [4, 2, 5, 8, 6]\n",
                "\n",
                "def custom_std_dev(y):\n",
                "\n",
                "    std_dev = custom_std_dev(y)\n",
                "print(f'The standard deviation is {std_dev}')"
            ]
        },
        {
            "cell_type": "code",
            "execution_count": 33,
            "id": "749edca9",
            "metadata": {},
            "outputs": [
                {
                    "name": "stdout",
                    "output_type": "stream",
                    "text": [
                        "<function StdDev at 0x72d2e13fcb80>\n"
                    ]
                }
            ],
            "source": [
                "data = []\n",
                "def StdDev(x):\n",
                "    suma = 0\n",
                "    for x in data: suma += ((x - sum(x)/len(x))**2)  # every iteration subtracks the mean value of a list [sum(data)/len(data)]  from every [x] element of a list and then raises to the second power [**2]\n",
                "    print((suma/(len(x)-1))**0.5) # then divide by n-1 [len(data)-1] and extract the root of 2 [**0.5]\n",
                "\n",
                "print(StdDev)"
            ]
        }
    ],
    "metadata": {
        "kernelspec": {
            "display_name": "Python 3",
            "language": "python",
            "name": "python3"
        },
        "language_info": {
            "codemirror_mode": {
                "name": "ipython",
                "version": 3
            },
            "file_extension": ".py",
            "mimetype": "text/x-python",
            "name": "python",
            "nbconvert_exporter": "python",
            "pygments_lexer": "ipython3",
            "version": "3.11.4"
        }
    },
    "nbformat": 4,
    "nbformat_minor": 5
}
