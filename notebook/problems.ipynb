{
    "cells": [
        {
            "cell_type": "markdown",
            "id": "ac622319",
            "metadata": {},
            "source": [
                "# Descriptive statistics problems"
            ]
        },
        {
            "cell_type": "markdown",
            "id": "5e0ab0d5",
            "metadata": {},
            "source": [
                "### Exercise 1\n",
                "\n",
                "We will use NumPy to obtain information to describe statistically.\n",
                "\n",
                "- Generate an array of 100 elements following a normal distribution.\n",
                "- Generate an array of 100 elements following a chi-square distribution with 3 degrees of freedom.\n",
                "- Calculate the main metrics and statistical measures that best describe the two vectors."
            ]
        },
        {
            "cell_type": "code",
            "execution_count": 22,
            "id": "34720ab6",
            "metadata": {},
            "outputs": [
                {
                    "name": "stdout",
                    "output_type": "stream",
                    "text": [
                        "The follwing is an array of 100 elements following a normal distribution / I love fred;\n",
                        "[51.80785201 50.4852845  50.62301702 49.28871673 50.98554179 49.38604422\n",
                        " 47.67752038 48.99643303 50.17337937 49.62449937 52.00001079 50.33379516\n",
                        " 49.03742627 49.85049457 50.34033023 49.56956844 50.0906366  50.32310291\n",
                        " 48.71622459 49.43505653 51.1652983  50.94902221 49.88138556 49.77665048\n",
                        " 49.81250067 48.30190458 51.29409914 50.98998566 51.54613596 49.94953384\n",
                        " 50.99444232 51.14139596 49.60094012 46.72924013 48.84799071 49.90304645\n",
                        " 49.95929499 51.08158064 50.83084985 49.68000411 50.53055067 51.37702117\n",
                        " 52.25366411 49.4308721  51.49392466 50.07483868 49.52974858 50.82771759\n",
                        " 50.5584773  48.90567072 50.12279287 47.56426106 48.89411878 50.35995308\n",
                        " 48.96198713 51.17267675 49.21953249 49.65436598 50.48146336 50.79865801\n",
                        " 48.9579171  50.06138672 51.71264806 49.57241048 48.61741022 48.93254545\n",
                        " 51.81369192 49.61661767 50.22595792 50.38848921 51.10280459 49.43305148\n",
                        " 50.40222801 49.60557485 53.14023589 51.29968619 51.48576986 51.31935395\n",
                        " 49.51590111 49.84578563 49.93435803 49.92584593 51.97331691 49.43560632\n",
                        " 49.665177   49.8306234  49.53519269 51.54605145 49.47608355 50.31630225\n",
                        " 49.20366027 51.27914446 49.23054832 49.11685085 50.36666178 49.34364266\n",
                        " 50.30925199 49.20985378 49.59684602 49.51315222].\n"
                    ]
                }
            ],
            "source": [
                "import numpy as np\n",
                "from scipy import stats\n",
                "from collections import Counter\n",
                "import matplotlib.pyplot as plt\n",
                "from scipy.stats import kurtosis\n",
                "\n",
                "\n",
                "a = np.random.normal(loc= 50, scale=1, size=100)\n",
                "\n",
                "print(f\"The follwing is an array of 100 elements following a normal distribution / I love fred;\\n{a}.\")\n",
                "\n"
            ]
        },
        {
            "cell_type": "code",
            "execution_count": 23,
            "id": "f22c682c",
            "metadata": {},
            "outputs": [
                {
                    "name": "stdout",
                    "output_type": "stream",
                    "text": [
                        "The mean for the first vector is; 50.09250167528188.\n"
                    ]
                }
            ],
            "source": [
                "mean_of_a = np.mean(a)\n",
                "print(f\"The mean for the first vector is; {mean_of_a}.\")"
            ]
        },
        {
            "cell_type": "code",
            "execution_count": 24,
            "id": "cfaf088e",
            "metadata": {},
            "outputs": [
                {
                    "name": "stdout",
                    "output_type": "stream",
                    "text": [
                        "The median for the first vector is; 50.09250167528188.\n"
                    ]
                }
            ],
            "source": [
                "median_of_a = np.median(a)\n",
                "print(f\"The median for the first vector is; {mean_of_a}.\")"
            ]
        },
        {
            "cell_type": "code",
            "execution_count": 25,
            "id": "50b62f52",
            "metadata": {},
            "outputs": [
                {
                    "name": "stdout",
                    "output_type": "stream",
                    "text": [
                        "The mode for the first vector is; ModeResult(mode=np.float64(46.72924012860341), count=np.int64(1)).\n"
                    ]
                }
            ],
            "source": [
                "mode_of_a = stats.mode(a)\n",
                "print(f\"The mode for the first vector is; {mode_of_a}.\")"
            ]
        },
        {
            "cell_type": "code",
            "execution_count": 26,
            "id": "15c3081a",
            "metadata": {},
            "outputs": [
                {
                    "name": "stdout",
                    "output_type": "stream",
                    "text": [
                        "The range for the first vector is; 6.41099576296515.\n"
                    ]
                }
            ],
            "source": [
                "range_of_a = max(a) - min(a)\n",
                "print(f\"The range for the first vector is; {range_of_a}.\")"
            ]
        },
        {
            "cell_type": "code",
            "execution_count": 27,
            "id": "00c4d160",
            "metadata": {},
            "outputs": [
                {
                    "name": "stdout",
                    "output_type": "stream",
                    "text": [
                        "The variance for the first vector is; 1.1040537436351812.\n",
                        "\n",
                        "The standard deviation for the first vector is; 1.056033049507305.\n"
                    ]
                }
            ],
            "source": [
                "variance_of_a = stats.moment(a, moment= 2)\n",
                "sd_of_a = stats.tstd(a)\n",
                "\n",
                "print(f\"The variance for the first vector is; {variance_of_a}.\")\n",
                "print(f\"\\nThe standard deviation for the first vector is; {sd_of_a}.\")"
            ]
        },
        {
            "cell_type": "code",
            "execution_count": 28,
            "id": "ae9a6907",
            "metadata": {},
            "outputs": [
                {
                    "name": "stdout",
                    "output_type": "stream",
                    "text": [
                        "The first vector can be illustrated in Percentile position measure, 50.86039293926816 is at the 75th percentile,\n",
                        "49.435468875053004 is at the 25th percentile and\n",
                        "49.941945935427626 is at the 50th percentile.\n"
                    ]
                }
            ],
            "source": [
                "percentile_75 = np.percentile(a, 75)\n",
                "percentile_25 = np.percentile(a, 25)\n",
                "percentile_50 = np.percentile(a, 50)\n",
                "\n",
                "\n",
                "\n",
                "print(f\"The first vector can be illustrated in Percentile position measure, {percentile_75} is at the 75th percentile,\")\n",
                "print(f\"{percentile_25} is at the 25th percentile and\") \n",
                "print(f\"{percentile_50} is at the 50th percentile.\")\n",
                "\n"
            ]
        },
        {
            "cell_type": "code",
            "execution_count": 54,
            "id": "0c81f677",
            "metadata": {},
            "outputs": [
                {
                    "data": {
                        "image/png": "[encoded data removed]",
                        "text/plain": [
                            "<Figure size 1000x500 with 1 Axes>"
                        ]
                    },
                    "metadata": {},
                    "output_type": "display_data"
                }
            ],
            "source": [
                "a = np.random.normal(loc= 50, scale=1, size=100)\n",
                "\n",
                "plt.figure(figsize = (10, 5))\n",
                "\n",
                "plt.hist(a, bins = 30, alpha = 0.7)\n",
                "\n",
                "plt.title(\"Appears to resemble Symmetrical Normal Distribution - Shape Measure of Vector 1 \")\n",
                "plt.show()\n",
                "\n"
            ]
        },
        {
            "cell_type": "code",
            "execution_count": 30,
            "id": "ee17d792",
            "metadata": {},
            "outputs": [
                {
                    "name": "stdout",
                    "output_type": "stream",
                    "text": [
                        "The kurtosis measurement of Vector 1 is; -0.5020728383296911 which is very close to normal distribution\n"
                    ]
                }
            ],
            "source": [
                "kurtosis_of_vector_a = kurtosis(a)\n",
                "\n",
                "print(f\"The kurtosis measurement of Vector 1 is; {kurtosis_of_vector_a} which is very close to normal distribution\")"
            ]
        },
        {
            "cell_type": "code",
            "execution_count": 31,
            "id": "026d48b8",
            "metadata": {},
            "outputs": [
                {
                    "name": "stdout",
                    "output_type": "stream",
                    "text": [
                        "The follwing is an array of 100 elements following a chi-square distribution with 3 degrees of freedom; \n",
                        " [ 6.43752591  3.55909857  0.36772115  0.08658541  6.6661163   2.34566001\n",
                        "  2.27412673 11.09712211  5.33890378  2.64315207  3.83840558  3.66134942\n",
                        "  2.07793311  1.83550196  5.84425428  1.22152551  5.5863351   4.61541239\n",
                        "  3.34287731  0.23700043  7.14973762  1.68871108  2.10178818  4.56155439\n",
                        "  7.10058254  6.39054391  2.20939999  1.25194977  3.69943144  3.32135234\n",
                        "  3.61725128  1.97437589  9.4085043   1.17807816  0.97643717  5.6566336\n",
                        "  1.5772273  10.04436624  1.71754811  2.71071727  4.37772314  2.69900414\n",
                        "  4.02858154  1.13254659  2.66121663  2.39219457  1.40388717  2.58996857\n",
                        "  5.74223021  2.71873503  6.416116    1.15093346  0.60817904  1.14786464\n",
                        "  2.55072869  4.67590029  1.26697114  2.48725416  3.56393468  7.8690912\n",
                        "  1.59770302  0.97461153  1.03698038  3.86715449  3.6457676  10.25707997\n",
                        "  1.33450581  1.36809053  0.31567019  3.46157043  0.48534561  1.91326925\n",
                        "  1.403992    2.51564151  3.48458623  4.18961324  3.81149158  0.55448106\n",
                        "  5.86133923  1.53298055  1.96322479  0.44790893  2.3736258   1.00044084\n",
                        "  1.85756019  4.05470372  0.03166815  5.28824407  1.64569132  0.8702401\n",
                        "  7.92928725  1.55439429  5.27073335  0.82549451  1.57059519  0.9955126\n",
                        "  1.35302525  1.48585673  6.19748606  0.3830496 ]\n"
                    ]
                }
            ],
            "source": [
                "b = np.random.chisquare(df= 3, size= 100)\n",
                "\n",
                "print(f\"The follwing is an array of 100 elements following a chi-square distribution with 3 degrees of freedom; \\n {b}\")"
            ]
        },
        {
            "cell_type": "code",
            "execution_count": 32,
            "id": "5ff84bff",
            "metadata": {},
            "outputs": [
                {
                    "name": "stdout",
                    "output_type": "stream",
                    "text": [
                        "The mean for the second vector is; 3.1360647552833205.\n"
                    ]
                }
            ],
            "source": [
                "mean_of_b = np.mean(b)\n",
                "print(f\"The mean for the second vector is; {mean_of_b}.\")"
            ]
        },
        {
            "cell_type": "code",
            "execution_count": 33,
            "id": "12f7f8f7",
            "metadata": {},
            "outputs": [
                {
                    "name": "stdout",
                    "output_type": "stream",
                    "text": [
                        "The median for the second vector is; 3.1360647552833205.\n"
                    ]
                }
            ],
            "source": [
                "median_of_b = np.median(b)\n",
                "print(f\"The median for the second vector is; {mean_of_b}.\")"
            ]
        },
        {
            "cell_type": "code",
            "execution_count": 38,
            "id": "a877b62f",
            "metadata": {},
            "outputs": [
                {
                    "name": "stdout",
                    "output_type": "stream",
                    "text": [
                        "The mode for the second vector is; ModeResult(mode=np.float64(0.03166814910649773), count=np.int64(1)).\n"
                    ]
                }
            ],
            "source": [
                "mode_of_b = stats.mode(b)\n",
                "print(f\"The mode for the second vector is; {mode_of_b}.\")"
            ]
        },
        {
            "cell_type": "code",
            "execution_count": 39,
            "id": "2978abea",
            "metadata": {},
            "outputs": [
                {
                    "name": "stdout",
                    "output_type": "stream",
                    "text": [
                        "The range for the second vector is; 11.065453958155354.\n"
                    ]
                }
            ],
            "source": [
                "range_of_b = max(b) - min(b)\n",
                "print(f\"The range for the second vector is; {range_of_b}.\")"
            ]
        },
        {
            "cell_type": "code",
            "execution_count": 44,
            "id": "6a23e01e",
            "metadata": {},
            "outputs": [
                {
                    "name": "stdout",
                    "output_type": "stream",
                    "text": [
                        "The variance for the second vector is; 5.846463375198418.\n",
                        "\n",
                        "The standard deviation for the second vector is; 2.4301272725531233.\n"
                    ]
                }
            ],
            "source": [
                "variance_of_b = stats.moment(b, moment= 2)\n",
                "sd_of_b = stats.tstd(b)\n",
                "\n",
                "print(f\"The variance for the second vector is; {variance_of_b}.\")\n",
                "print(f\"\\nThe standard deviation for the second vector is; {sd_of_b}.\")"
            ]
        },
        {
            "cell_type": "code",
            "execution_count": 46,
            "id": "165715ae",
            "metadata": {},
            "outputs": [
                {
                    "name": "stdout",
                    "output_type": "stream",
                    "text": [
                        "The second vector can also be illustrated in Percentile position measure, 4.236640716707564 is at the 75th percentile,\n",
                        "1.3483953871489818 is at the 25th percentile and\n",
                        "2.439724366531787 is at the 50th percentile.\n"
                    ]
                }
            ],
            "source": [
                "percentile_75_b = np.percentile(b, 75)\n",
                "percentile_25_b = np.percentile(b, 25)\n",
                "percentile_50_b = np.percentile(b, 50)\n",
                "\n",
                "\n",
                "\n",
                "print(f\"The second vector can also be illustrated in Percentile position measure, {percentile_75_b} is at the 75th percentile,\")\n",
                "print(f\"{percentile_25_b} is at the 25th percentile and\") \n",
                "print(f\"{percentile_50_b} is at the 50th percentile.\")\n"
            ]
        },
        {
            "cell_type": "code",
            "execution_count": 64,
            "id": "d2f3ddb1",
            "metadata": {},
            "outputs": [
                {
                    "data": {
                        "image/png": "[encoded data removed]",
                        "text/plain": [
                            "<Figure size 1000x500 with 1 Axes>"
                        ]
                    },
                    "metadata": {},
                    "output_type": "display_data"
                },
                {
                    "name": "stdout",
                    "output_type": "stream",
                    "text": [
                        "Explanation for this would be, because of the smaller sample size and the degree of freedom is 3 which is\n",
                        " a moderate skew thus making the graph appear to look like a normal distribution on the histogram.\n"
                    ]
                }
            ],
            "source": [
                "b = np.random.chisquare(df= 3, size= 100)\n",
                "\n",
                "plt.figure(figsize = (10, 5))\n",
                "\n",
                "plt.hist(a, bins = 30, alpha = 0.7)\n",
                "\n",
                "plt.title(\"Appears to mimic normal distribution bell curve - Shape Measure of Vector B \")\n",
                "plt.show()\n",
                "\n",
                "print(f\"Explanation for this would be, because of the smaller sample size and the degree of freedom is 3 which is\\n a moderate skew thus making the graph appear to look like a normal distribution on the histogram.\")\n",
                "\n"
            ]
        },
        {
            "cell_type": "code",
            "execution_count": 68,
            "id": "1fc81d8c",
            "metadata": {},
            "outputs": [
                {
                    "name": "stdout",
                    "output_type": "stream",
                    "text": [
                        "The kurtosis measurement of Vector 2 is; -0.5020728383296911 the score actually is consistent with the \n",
                        " visualization of the histogram, which shows less concentration on the tail and more spread out across the vector.\n"
                    ]
                }
            ],
            "source": [
                "kurtosis_of_vector_b = kurtosis(b)\n",
                "\n",
                "print(f\"The kurtosis measurement of Vector 2 is; {kurtosis_of_vector_a} the score actually is consistent with the \\n visualization of the histogram, which shows less concentration on the tail and more spread out across the vector.\")"
            ]
        },
        {
            "cell_type": "markdown",
            "id": "46c70c3d",
            "metadata": {},
            "source": [
                "### Exercise 2\n",
                "\n",
                "Write a Python program to calculate the standard deviation of the following data:\n",
                "\n",
                "```py\n",
                "data = [4, 2, 5, 8, 6]\n",
                "```"
            ]
        },
        {
            "cell_type": "code",
            "execution_count": 35,
            "id": "d590308e",
            "metadata": {},
            "outputs": [],
            "source": [
                "# TODO"
            ]
        }
    ],
    "metadata": {
        "kernelspec": {
            "display_name": "Python 3",
            "language": "python",
            "name": "python3"
        },
        "language_info": {
            "codemirror_mode": {
                "name": "ipython",
                "version": 3
            },
            "file_extension": ".py",
            "mimetype": "text/x-python",
            "name": "python",
            "nbconvert_exporter": "python",
            "pygments_lexer": "ipython3",
            "version": "3.11.4"
        }
    },
    "nbformat": 4,
    "nbformat_minor": 5
}
