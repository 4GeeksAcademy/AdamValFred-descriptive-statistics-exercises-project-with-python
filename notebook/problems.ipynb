{
    "cells": [
        {
            "cell_type": "markdown",
            "id": "ac622319",
            "metadata": {},
            "source": [
                "# Descriptive statistics problems"
            ]
        },
        {
            "cell_type": "markdown",
            "id": "5e0ab0d5",
            "metadata": {},
            "source": [
                "### Exercise 1\n",
                "\n",
                "We will use NumPy to obtain information to describe statistically.\n",
                "\n",
                "- Generate an array of 100 elements following a normal distribution.\n",
                "- Generate an array of 100 elements following a chi-square distribution with 3 degrees of freedom.\n",
                "- Calculate the main metrics and statistical measures that best describe the two vectors."
            ]
        },
        {
            "cell_type": "code",
            "execution_count": 68,
            "id": "34720ab6",
            "metadata": {},
            "outputs": [
                {
                    "name": "stdout",
                    "output_type": "stream",
                    "text": [
                        "The follwing is an array of 100 elements following a normal distribution / I love fred;\n",
                        "[49.75434773 51.41503017 48.07418755 48.97354932 51.56392017 51.89396612\n",
                        " 47.73963767 50.50629357 51.38646825 51.23354261 50.17070133 50.48162813\n",
                        " 50.9628825  50.97972375 49.06572162 48.07580723 50.9927138  48.41453113\n",
                        " 49.83567269 50.84470176 48.02117487 49.20814638 50.69485882 49.66329141\n",
                        " 50.24096115 49.55258141 50.95255228 50.43666883 49.31842045 50.41989357\n",
                        " 51.19971313 49.30936248 50.0219755  51.76353506 48.73067978 48.91495964\n",
                        " 49.88359444 49.73756839 51.25691096 49.91474954 49.2372601  49.61544874\n",
                        " 49.42065937 49.93291915 49.77664853 52.0380834  48.64047109 47.68773541\n",
                        " 49.61860181 50.01072008 50.223461   48.94109547 49.64214562 50.26057888\n",
                        " 49.57889063 49.74355827 50.86808703 48.91371065 50.44220668 49.13731594\n",
                        " 51.33998204 50.90093596 50.69445163 51.04563483 49.87498938 48.89506471\n",
                        " 52.54982089 49.80936502 50.75187222 49.07609068 50.70946371 48.30753798\n",
                        " 51.73663502 49.97757765 49.90598742 49.30191058 52.46358204 49.91595557\n",
                        " 49.06494135 49.43601167 49.67809096 48.92975663 49.36256946 49.66764927\n",
                        " 50.08353367 49.10685819 49.80361248 50.19290692 49.97564033 48.11192858\n",
                        " 50.27073072 50.1991731  48.43499102 49.90122685 49.76845539 50.8871006\n",
                        " 48.71882288 49.33386594 50.03149654 50.58927905].\n"
                    ]
                }
            ],
            "source": [
                "import numpy as np\n",
                "from scipy import stats\n",
                "from collections import Counter\n",
                "import matplotlib.pyplot as plt\n",
                "from scipy.stats import kurtosis\n",
                "\n",
                "\n",
                "a = np.random.normal(loc= 50, scale=1, size=100)\n",
                "\n",
                "print(f\"The follwing is an array of 100 elements following a normal distribution / I love fred;\\n{a}.\")\n",
                "\n"
            ]
        },
        {
            "cell_type": "code",
            "execution_count": 69,
            "id": "f22c682c",
            "metadata": {},
            "outputs": [
                {
                    "name": "stdout",
                    "output_type": "stream",
                    "text": [
                        "The mean for the first vector is; 49.94141721951004.\n"
                    ]
                }
            ],
            "source": [
                "mean_of_a = np.mean(a)\n",
                "print(f\"The mean for the first vector is; {mean_of_a}.\")"
            ]
        },
        {
            "cell_type": "code",
            "execution_count": 70,
            "id": "cfaf088e",
            "metadata": {},
            "outputs": [
                {
                    "name": "stdout",
                    "output_type": "stream",
                    "text": [
                        "The median for the first vector is; 49.94141721951004.\n"
                    ]
                }
            ],
            "source": [
                "median_of_a = np.median(a)\n",
                "print(f\"The median for the first vector is; {mean_of_a}.\")"
            ]
        },
        {
            "cell_type": "code",
            "execution_count": 71,
            "id": "50b62f52",
            "metadata": {},
            "outputs": [
                {
                    "name": "stdout",
                    "output_type": "stream",
                    "text": [
                        "The mode for the first vector is; ModeResult(mode=np.float64(47.6877354129591), count=np.int64(1)).\n"
                    ]
                }
            ],
            "source": [
                "mode_of_a = stats.mode(a)\n",
                "print(f\"The mode for the first vector is; {mode_of_a}.\")"
            ]
        },
        {
            "cell_type": "code",
            "execution_count": 72,
            "id": "15c3081a",
            "metadata": {},
            "outputs": [
                {
                    "name": "stdout",
                    "output_type": "stream",
                    "text": [
                        "The range for the first vector is; 4.862085472457515.\n"
                    ]
                }
            ],
            "source": [
                "range_of_a = max(a) - min(a)\n",
                "print(f\"The range for the first vector is; {range_of_a}.\")"
            ]
        },
        {
            "cell_type": "code",
            "execution_count": 73,
            "id": "00c4d160",
            "metadata": {},
            "outputs": [
                {
                    "name": "stdout",
                    "output_type": "stream",
                    "text": [
                        "The variance for the first vector is; 1.0558887902056642.\n",
                        "\n",
                        "The standard deviation for the first vector is; 1.0327411745161879.\n"
                    ]
                }
            ],
            "source": [
                "variance_of_a = stats.moment(a, moment= 2)\n",
                "sd_of_a = stats.tstd(a)\n",
                "\n",
                "print(f\"The variance for the first vector is; {variance_of_a}.\")\n",
                "print(f\"\\nThe standard deviation for the first vector is; {sd_of_a}.\")"
            ]
        },
        {
            "cell_type": "code",
            "execution_count": 74,
            "id": "ae9a6907",
            "metadata": {},
            "outputs": [
                {
                    "name": "stdout",
                    "output_type": "stream",
                    "text": [
                        "The first vector can be illustrated in Percentile position measure, 50.69455342447488 is at the 75th percentile,\n",
                        "49.2857479567583 is at the 25th percentile and\n",
                        "49.89241064522058 is at the 50th percentile.\n"
                    ]
                }
            ],
            "source": [
                "percentile_75 = np.percentile(a, 75)\n",
                "percentile_25 = np.percentile(a, 25)\n",
                "percentile_50 = np.percentile(a, 50)\n",
                "\n",
                "\n",
                "\n",
                "print(f\"The first vector can be illustrated in Percentile position measure, {percentile_75} is at the 75th percentile,\")\n",
                "print(f\"{percentile_25} is at the 25th percentile and\") \n",
                "print(f\"{percentile_50} is at the 50th percentile.\")\n",
                "\n"
            ]
        },
        {
            "cell_type": "code",
            "execution_count": 75,
            "id": "0c81f677",
            "metadata": {},
            "outputs": [
                {
                    "data": {
                        "image/png": "[encoded data removed]",
                        "text/plain": [
                            "<Figure size 1000x500 with 1 Axes>"
                        ]
                    },
                    "metadata": {},
                    "output_type": "display_data"
                }
            ],
            "source": [
                "a = np.random.normal(loc= 50, scale=1, size=100)\n",
                "\n",
                "plt.figure(figsize = (10, 5))\n",
                "\n",
                "plt.hist(a, bins = 30, alpha = 0.7)\n",
                "\n",
                "plt.title(\"Appears to resemble Symmetrical Normal Distribution - Shape Measure of Vector 1 \")\n",
                "plt.show()\n",
                "\n"
            ]
        },
        {
            "cell_type": "code",
            "execution_count": 76,
            "id": "ee17d792",
            "metadata": {},
            "outputs": [
                {
                    "name": "stdout",
                    "output_type": "stream",
                    "text": [
                        "The kurtosis measurement of Vector 1 is; 0.6504016422634042 which is very close to normal distribution\n"
                    ]
                }
            ],
            "source": [
                "kurtosis_of_vector_a = kurtosis(a)\n",
                "\n",
                "print(f\"The kurtosis measurement of Vector 1 is; {kurtosis_of_vector_a} which is very close to normal distribution\")"
            ]
        },
        {
            "cell_type": "code",
            "execution_count": 77,
            "id": "026d48b8",
            "metadata": {},
            "outputs": [
                {
                    "name": "stdout",
                    "output_type": "stream",
                    "text": [
                        "The follwing is an array of 100 elements following a chi-square distribution with 3 degrees of freedom; \n",
                        " [4.15966257 2.28196791 0.70070819 6.18333353 3.80905519 2.41071136\n",
                        " 0.96485772 1.36886003 3.5219631  2.26117044 0.89494218 6.83397669\n",
                        " 0.69612738 6.43537406 0.48451392 3.1864994  1.81264516 4.94944483\n",
                        " 1.13831278 0.66095164 6.90657144 1.92536438 1.73158591 4.18161787\n",
                        " 1.70193492 4.7504056  3.48363159 2.00842733 1.32054104 2.93264071\n",
                        " 6.40992006 1.95334205 6.46791643 0.84603815 4.98657195 3.75977836\n",
                        " 2.38399986 6.41691238 1.98194134 8.48272919 1.05285207 2.60859571\n",
                        " 0.4547409  1.63987432 2.9913788  0.65483784 2.41125914 0.42858323\n",
                        " 1.36405223 2.25072114 1.6455251  3.8550509  6.74859998 3.7888635\n",
                        " 8.43018731 2.0159155  1.79994752 2.5301748  1.78854675 1.93644415\n",
                        " 0.18981093 0.82518752 1.48333262 2.62697637 1.92616742 4.31003042\n",
                        " 2.68894162 6.47116743 1.19115384 1.84690319 0.43806232 0.27570948\n",
                        " 0.95537184 0.83281904 1.49693296 0.35066932 1.74210616 4.32422328\n",
                        " 8.83756141 0.8139734  3.12299409 0.75130738 6.33031215 0.88357595\n",
                        " 0.28712347 3.17370179 3.04641629 1.24016863 0.41208354 1.45181121\n",
                        " 2.37600481 2.26007568 4.36995671 3.14909593 0.53999703 7.77133296\n",
                        " 4.58033608 2.08137394 1.13277158 0.72323942]\n"
                    ]
                }
            ],
            "source": [
                "b = np.random.chisquare(df= 3, size= 100)\n",
                "\n",
                "print(f\"The follwing is an array of 100 elements following a chi-square distribution with 3 degrees of freedom; \\n {b}\")"
            ]
        },
        {
            "cell_type": "code",
            "execution_count": 78,
            "id": "5ff84bff",
            "metadata": {},
            "outputs": [
                {
                    "name": "stdout",
                    "output_type": "stream",
                    "text": [
                        "The mean for the second vector is; 2.7309387871664383.\n"
                    ]
                }
            ],
            "source": [
                "mean_of_b = np.mean(b)\n",
                "print(f\"The mean for the second vector is; {mean_of_b}.\")"
            ]
        },
        {
            "cell_type": "code",
            "execution_count": 79,
            "id": "12f7f8f7",
            "metadata": {},
            "outputs": [
                {
                    "name": "stdout",
                    "output_type": "stream",
                    "text": [
                        "The median for the second vector is; 2.7309387871664383.\n"
                    ]
                }
            ],
            "source": [
                "median_of_b = np.median(b)\n",
                "print(f\"The median for the second vector is; {mean_of_b}.\")"
            ]
        },
        {
            "cell_type": "code",
            "execution_count": 80,
            "id": "a877b62f",
            "metadata": {},
            "outputs": [
                {
                    "name": "stdout",
                    "output_type": "stream",
                    "text": [
                        "The mode for the second vector is; ModeResult(mode=np.float64(0.18981093420966774), count=np.int64(1)).\n"
                    ]
                }
            ],
            "source": [
                "mode_of_b = stats.mode(b)\n",
                "print(f\"The mode for the second vector is; {mode_of_b}.\")"
            ]
        },
        {
            "cell_type": "code",
            "execution_count": 81,
            "id": "2978abea",
            "metadata": {},
            "outputs": [
                {
                    "name": "stdout",
                    "output_type": "stream",
                    "text": [
                        "The range for the second vector is; 8.647750476438357.\n"
                    ]
                }
            ],
            "source": [
                "range_of_b = max(b) - min(b)\n",
                "print(f\"The range for the second vector is; {range_of_b}.\")"
            ]
        },
        {
            "cell_type": "code",
            "execution_count": 82,
            "id": "6a23e01e",
            "metadata": {},
            "outputs": [
                {
                    "name": "stdout",
                    "output_type": "stream",
                    "text": [
                        "The variance for the second vector is; 4.535199065257687.\n",
                        "\n",
                        "The standard deviation for the second vector is; 2.140329216925739.\n"
                    ]
                }
            ],
            "source": [
                "variance_of_b = stats.moment(b, moment= 2)\n",
                "sd_of_b = stats.tstd(b)\n",
                "\n",
                "print(f\"The variance for the second vector is; {variance_of_b}.\")\n",
                "print(f\"\\nThe standard deviation for the second vector is; {sd_of_b}.\")"
            ]
        },
        {
            "cell_type": "code",
            "execution_count": 83,
            "id": "165715ae",
            "metadata": {},
            "outputs": [
                {
                    "name": "stdout",
                    "output_type": "stream",
                    "text": [
                        "The second vector can also be illustrated in Percentile position measure, 3.7939114241857403 is at the 75th percentile,\n",
                        "1.1127916993794909 is at the 25th percentile and\n",
                        "2.0121714161620576 is at the 50th percentile.\n"
                    ]
                }
            ],
            "source": [
                "percentile_75_b = np.percentile(b, 75)\n",
                "percentile_25_b = np.percentile(b, 25)\n",
                "percentile_50_b = np.percentile(b, 50)\n",
                "\n",
                "\n",
                "\n",
                "print(f\"The second vector can also be illustrated in Percentile position measure, {percentile_75_b} is at the 75th percentile,\")\n",
                "print(f\"{percentile_25_b} is at the 25th percentile and\") \n",
                "print(f\"{percentile_50_b} is at the 50th percentile.\")\n"
            ]
        },
        {
            "cell_type": "code",
            "execution_count": 84,
            "id": "d2f3ddb1",
            "metadata": {},
            "outputs": [
                {
                    "data": {
                        "image/png": "[encoded data removed]",
                        "text/plain": [
                            "<Figure size 1000x500 with 1 Axes>"
                        ]
                    },
                    "metadata": {},
                    "output_type": "display_data"
                },
                {
                    "name": "stdout",
                    "output_type": "stream",
                    "text": [
                        "Explanation for this would be, because of the smaller sample size and the degree of freedom is 3 which is\n",
                        " a moderate skew thus making the graph appear to look like a normal distribution on the histogram.\n"
                    ]
                }
            ],
            "source": [
                "b = np.random.chisquare(df= 3, size= 100)\n",
                "\n",
                "plt.figure(figsize = (10, 5))\n",
                "\n",
                "plt.hist(a, bins = 30, alpha = 0.7)\n",
                "\n",
                "plt.title(\"Appears to mimic normal distribution bell curve - Shape Measure of Vector B \")\n",
                "plt.show()\n",
                "\n",
                "print(f\"Explanation for this would be, because of the smaller sample size and the degree of freedom is 3 which is\\n a moderate skew thus making the graph appear to look like a normal distribution on the histogram.\")\n",
                "\n"
            ]
        },
        {
            "cell_type": "code",
            "execution_count": 85,
            "id": "1fc81d8c",
            "metadata": {},
            "outputs": [
                {
                    "name": "stdout",
                    "output_type": "stream",
                    "text": [
                        "The kurtosis measurement of Vector 2 is; 1.690422886454468.\n"
                    ]
                }
            ],
            "source": [
                "kurtosis_of_vector_b = kurtosis(b)\n",
                "\n",
                "print(f\"The kurtosis measurement of Vector 2 is; {kurtosis_of_vector_b}.\")"
            ]
        },
        {
            "cell_type": "markdown",
            "id": "46c70c3d",
            "metadata": {},
            "source": [
                "### Exercise 2\n",
                "\n",
                "Write a Python program to calculate the standard deviation of the following data:\n",
                "\n",
                "```py\n",
                "data = [4, 2, 5, 8, 6]\n",
                "```"
            ]
        },
        {
            "cell_type": "code",
            "execution_count": 98,
            "id": "d0bc91eb",
            "metadata": {},
            "outputs": [
                {
                    "name": "stdout",
                    "output_type": "stream",
                    "text": [
                        "The standard deviation for the data above is 2.23606797749979.\n"
                    ]
                }
            ],
            "source": [
                "data = [4, 2, 5, 8, 6]\n",
                "\n",
                "def sd_calc(data):\n",
                "    n = len(data)\n",
                "\n",
                "    if (n <= 1):\n",
                "        return 0.0\n",
                "\n",
                "    mean = avg_calc(data)\n",
                "    sd = 0.0\n",
                "\n",
                "    for d in data:\n",
                "        sd += (float(d) - mean) ** 2\n",
                "    sd = math.sqrt(sd / float(n - 1))\n",
                "\n",
                "    return sd\n",
                "\n",
                "print(f'The standard deviation for the data above is {sd_calc(data)}.')\n",
                "\n",
                "\n"
            ]
        }
    ],
    "metadata": {
        "kernelspec": {
            "display_name": "Python 3",
            "language": "python",
            "name": "python3"
        },
        "language_info": {
            "codemirror_mode": {
                "name": "ipython",
                "version": 3
            },
            "file_extension": ".py",
            "mimetype": "text/x-python",
            "name": "python",
            "nbconvert_exporter": "python",
            "pygments_lexer": "ipython3",
            "version": "3.11.4"
        }
    },
    "nbformat": 4,
    "nbformat_minor": 5
}
