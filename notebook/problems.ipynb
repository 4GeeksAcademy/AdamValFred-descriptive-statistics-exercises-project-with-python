{
    "cells": [
        {
            "cell_type": "markdown",
            "id": "ac622319",
            "metadata": {},
            "source": [
                "# Descriptive statistics problems"
            ]
        },
        {
            "cell_type": "markdown",
            "id": "5e0ab0d5",
            "metadata": {},
            "source": [
                "### Exercise 1\n",
                "\n",
                "We will use NumPy to obtain information to describe statistically.\n",
                "\n",
                "- Generate an array of 100 elements following a normal distribution.\n",
                "- Generate an array of 100 elements following a chi-square distribution with 3 degrees of freedom.\n",
                "- Calculate the main metrics and statistical measures that best describe the two vectors."
            ]
        },
        {
            "cell_type": "code",
            "execution_count": 4,
            "id": "34720ab6",
            "metadata": {},
            "outputs": [
                {
                    "name": "stdout",
                    "output_type": "stream",
                    "text": [
                        "The follwing is an array of 100 elements following a normal distribution / I love fred;\n",
                        "[52.41381181 49.56946419 49.27172343 51.62037396 51.24740019 49.83521242\n",
                        " 49.90237706 50.19357263 50.25316597 49.27012519 51.36006026 49.45662673\n",
                        " 53.11613969 50.20548699 51.44050702 51.65117877 48.84028898 49.09899747\n",
                        " 49.82698467 49.79440838 51.77586275 51.63462257 51.53144594 50.21736069\n",
                        " 47.7019089  49.92840253 48.80441636 49.33317878 50.12570289 48.91550414\n",
                        " 51.46133526 49.69235392 50.60272334 50.96318371 50.12799779 52.15466986\n",
                        " 49.55489933 49.97989259 48.99269426 50.71603333 50.3985919  49.12969168\n",
                        " 49.50011432 48.40092044 49.60670261 50.08848717 50.26145413 49.28134658\n",
                        " 50.41057919 48.68366394 50.6396802  51.53439269 52.20155115 51.74905664\n",
                        " 49.43500805 48.58670513 49.90746309 49.1004712  50.20564686 51.81073123\n",
                        " 49.85386682 50.28717045 50.34668988 50.11241476 51.09191101 48.92327306\n",
                        " 48.5383311  50.13827965 49.29760622 49.01652136 50.65663076 50.65507221\n",
                        " 49.4406913  50.49765533 50.67030016 50.76639359 48.66965595 49.20779345\n",
                        " 50.65445524 50.66705125 50.1917299  50.21760514 50.52471998 49.10775076\n",
                        " 50.27166941 47.73797696 49.56610387 50.72581239 50.22832016 48.12975748\n",
                        " 49.56135422 50.49586266 48.91335529 51.87134205 50.927899   51.19380498\n",
                        " 49.17827301 49.70479603 50.77897256 49.47651567].\n"
                    ]
                }
            ],
            "source": [
                "import numpy as np\n",
                "from scipy import stats\n",
                "from collections import Counter\n",
                "import matplotlib.pyplot as plt\n",
                "from scipy.stats import kurtosis\n",
                "\n",
                "\n",
                "a = np.random.normal(loc= 50, scale=1, size=100)\n",
                "\n",
                "print(f\"The follwing is an array of 100 elements following a normal distribution / I love fred;\\n{a}.\")\n",
                "\n"
            ]
        },
        {
            "cell_type": "code",
            "execution_count": 5,
            "id": "f22c682c",
            "metadata": {},
            "outputs": [
                {
                    "name": "stdout",
                    "output_type": "stream",
                    "text": [
                        "The mean for the first vector is; 50.118097379762276.\n"
                    ]
                }
            ],
            "source": [
                "mean_of_a = np.mean(a)\n",
                "print(f\"The mean for the first vector is; {mean_of_a}.\")"
            ]
        },
        {
            "cell_type": "code",
            "execution_count": 6,
            "id": "cfaf088e",
            "metadata": {},
            "outputs": [
                {
                    "name": "stdout",
                    "output_type": "stream",
                    "text": [
                        "The median for the first vector is; 50.118097379762276.\n"
                    ]
                }
            ],
            "source": [
                "median_of_a = np.median(a)\n",
                "print(f\"The median for the first vector is; {mean_of_a}.\")"
            ]
        },
        {
            "cell_type": "code",
            "execution_count": 7,
            "id": "50b62f52",
            "metadata": {},
            "outputs": [
                {
                    "name": "stdout",
                    "output_type": "stream",
                    "text": [
                        "The mode for the first vector is; ModeResult(mode=np.float64(47.701908895655166), count=np.int64(1)).\n"
                    ]
                }
            ],
            "source": [
                "mode_of_a = stats.mode(a)\n",
                "print(f\"The mode for the first vector is; {mode_of_a}.\")"
            ]
        },
        {
            "cell_type": "code",
            "execution_count": 8,
            "id": "15c3081a",
            "metadata": {},
            "outputs": [
                {
                    "name": "stdout",
                    "output_type": "stream",
                    "text": [
                        "The range for the first vector is; 5.414230790478136.\n"
                    ]
                }
            ],
            "source": [
                "range_of_a = max(a) - min(a)\n",
                "print(f\"The range for the first vector is; {range_of_a}.\")"
            ]
        },
        {
            "cell_type": "code",
            "execution_count": 9,
            "id": "00c4d160",
            "metadata": {},
            "outputs": [
                {
                    "name": "stdout",
                    "output_type": "stream",
                    "text": [
                        "The variance for the first vector is; 1.1049561115690827.\n",
                        "\n",
                        "The standard deviation for the first vector is; 1.0564645211332064.\n"
                    ]
                }
            ],
            "source": [
                "variance_of_a = stats.moment(a, moment= 2)\n",
                "sd_of_a = stats.tstd(a)\n",
                "\n",
                "print(f\"The variance for the first vector is; {variance_of_a}.\")\n",
                "print(f\"\\nThe standard deviation for the first vector is; {sd_of_a}.\")"
            ]
        },
        {
            "cell_type": "code",
            "execution_count": 10,
            "id": "ae9a6907",
            "metadata": {},
            "outputs": [
                {
                    "name": "stdout",
                    "output_type": "stream",
                    "text": [
                        "The first vector can be illustrated in Percentile position measure, 50.68173344977137 is at the 75th percentile,\n",
                        "49.324285640033516 is at the 25th percentile and\n",
                        "50.133138717064526 is at the 50th percentile.\n"
                    ]
                }
            ],
            "source": [
                "percentile_75 = np.percentile(a, 75)\n",
                "percentile_25 = np.percentile(a, 25)\n",
                "percentile_50 = np.percentile(a, 50)\n",
                "\n",
                "\n",
                "\n",
                "print(f\"The first vector can be illustrated in Percentile position measure, {percentile_75} is at the 75th percentile,\")\n",
                "print(f\"{percentile_25} is at the 25th percentile and\") \n",
                "print(f\"{percentile_50} is at the 50th percentile.\")\n",
                "\n"
            ]
        },
        {
            "cell_type": "code",
            "execution_count": 11,
            "id": "0c81f677",
            "metadata": {},
            "outputs": [
                {
                    "data": {
                        "image/png": "[encoded data removed]",
                        "text/plain": [
                            "<Figure size 1000x500 with 1 Axes>"
                        ]
                    },
                    "metadata": {},
                    "output_type": "display_data"
                }
            ],
            "source": [
                "a = np.random.normal(loc= 50, scale=1, size=100)\n",
                "\n",
                "plt.figure(figsize = (10, 5))\n",
                "\n",
                "plt.hist(a, bins = 30, alpha = 0.7)\n",
                "\n",
                "plt.title(\"Appears to resemble Symmetrical Normal Distribution - Shape Measure of Vector 1 \")\n",
                "plt.show()\n",
                "\n"
            ]
        },
        {
            "cell_type": "code",
            "execution_count": 12,
            "id": "ee17d792",
            "metadata": {},
            "outputs": [
                {
                    "name": "stdout",
                    "output_type": "stream",
                    "text": [
                        "The kurtosis measurement of Vector 1 is; -0.5933819168295109 which is very close to normal distribution\n"
                    ]
                }
            ],
            "source": [
                "kurtosis_of_vector_a = kurtosis(a)\n",
                "\n",
                "print(f\"The kurtosis measurement of Vector 1 is; {kurtosis_of_vector_a} which is very close to normal distribution\")"
            ]
        },
        {
            "cell_type": "code",
            "execution_count": 13,
            "id": "026d48b8",
            "metadata": {},
            "outputs": [
                {
                    "name": "stdout",
                    "output_type": "stream",
                    "text": [
                        "The follwing is an array of 100 elements following a chi-square distribution with 3 degrees of freedom; \n",
                        " [1.9552742  6.17663663 4.95595787 4.31001556 2.93482554 9.03264101\n",
                        " 0.98281115 6.7680273  2.57167502 0.9851377  3.05196866 1.30605153\n",
                        " 2.17388796 0.84173388 2.39475719 2.91401327 0.33140361 2.83783764\n",
                        " 5.10813405 5.59503434 3.22911985 1.40885337 3.06027096 0.8855682\n",
                        " 3.35421629 6.76040451 0.576742   3.18441077 2.46096408 6.65941323\n",
                        " 5.39663917 2.16365441 4.6938888  4.30551279 9.19616174 6.6366585\n",
                        " 0.37737768 1.5115935  1.59855157 1.81819092 3.13755217 1.29146507\n",
                        " 7.28135759 3.65507185 0.91683544 1.21866244 2.21703603 5.9806123\n",
                        " 0.53393199 1.14964698 0.97008016 1.98521482 1.94652353 1.94482407\n",
                        " 3.80034847 4.40273381 2.26868234 2.50593777 3.462672   6.74504449\n",
                        " 1.76295946 5.53230348 2.33162632 3.84564998 0.96734771 1.55579428\n",
                        " 0.32928911 3.02653685 1.65305604 0.46297373 1.29073375 1.23300042\n",
                        " 1.12237336 3.37593241 1.95417919 3.1330112  2.4337828  3.15197752\n",
                        " 1.52498136 4.40881526 3.94370774 2.14119991 3.38502459 3.76515264\n",
                        " 3.85842056 1.59743165 2.00231695 4.62237238 6.89493029 0.32077405\n",
                        " 2.26868685 1.56199516 2.18143294 6.02727619 7.51738412 4.87714095\n",
                        " 5.89842523 2.92825472 6.3572133  1.17478269]\n"
                    ]
                }
            ],
            "source": [
                "b = np.random.chisquare(df= 3, size= 100)\n",
                "\n",
                "print(f\"The follwing is an array of 100 elements following a chi-square distribution with 3 degrees of freedom; \\n {b}\")"
            ]
        },
        {
            "cell_type": "code",
            "execution_count": 14,
            "id": "5ff84bff",
            "metadata": {},
            "outputs": [
                {
                    "name": "stdout",
                    "output_type": "stream",
                    "text": [
                        "The mean for the second vector is; 3.1234049695276083.\n"
                    ]
                }
            ],
            "source": [
                "mean_of_b = np.mean(b)\n",
                "print(f\"The mean for the second vector is; {mean_of_b}.\")"
            ]
        },
        {
            "cell_type": "code",
            "execution_count": 15,
            "id": "12f7f8f7",
            "metadata": {},
            "outputs": [
                {
                    "name": "stdout",
                    "output_type": "stream",
                    "text": [
                        "The median for the second vector is; 3.1234049695276083.\n"
                    ]
                }
            ],
            "source": [
                "median_of_b = np.median(b)\n",
                "print(f\"The median for the second vector is; {mean_of_b}.\")"
            ]
        },
        {
            "cell_type": "code",
            "execution_count": 16,
            "id": "a877b62f",
            "metadata": {},
            "outputs": [
                {
                    "name": "stdout",
                    "output_type": "stream",
                    "text": [
                        "The mode for the second vector is; ModeResult(mode=np.float64(0.3207740476966631), count=np.int64(1)).\n"
                    ]
                }
            ],
            "source": [
                "mode_of_b = stats.mode(b)\n",
                "print(f\"The mode for the second vector is; {mode_of_b}.\")"
            ]
        },
        {
            "cell_type": "code",
            "execution_count": 17,
            "id": "2978abea",
            "metadata": {},
            "outputs": [
                {
                    "name": "stdout",
                    "output_type": "stream",
                    "text": [
                        "The range for the second vector is; 8.875387693733183.\n"
                    ]
                }
            ],
            "source": [
                "range_of_b = max(b) - min(b)\n",
                "print(f\"The range for the second vector is; {range_of_b}.\")"
            ]
        },
        {
            "cell_type": "code",
            "execution_count": 18,
            "id": "6a23e01e",
            "metadata": {},
            "outputs": [
                {
                    "name": "stdout",
                    "output_type": "stream",
                    "text": [
                        "The variance for the second vector is; 4.266859644147086.\n",
                        "\n",
                        "The standard deviation for the second vector is; 2.0760441316388745.\n"
                    ]
                }
            ],
            "source": [
                "variance_of_b = stats.moment(b, moment= 2)\n",
                "sd_of_b = stats.tstd(b)\n",
                "\n",
                "print(f\"The variance for the second vector is; {variance_of_b}.\")\n",
                "print(f\"\\nThe standard deviation for the second vector is; {sd_of_b}.\")"
            ]
        },
        {
            "cell_type": "code",
            "execution_count": 19,
            "id": "165715ae",
            "metadata": {},
            "outputs": [
                {
                    "name": "stdout",
                    "output_type": "stream",
                    "text": [
                        "The second vector can also be illustrated in Percentile position measure, 4.333195123117098 is at the 75th percentile,\n",
                        "1.5480910528352327 is at the 25th percentile and\n",
                        "2.5388063949680797 is at the 50th percentile.\n"
                    ]
                }
            ],
            "source": [
                "percentile_75_b = np.percentile(b, 75)\n",
                "percentile_25_b = np.percentile(b, 25)\n",
                "percentile_50_b = np.percentile(b, 50)\n",
                "\n",
                "\n",
                "\n",
                "print(f\"The second vector can also be illustrated in Percentile position measure, {percentile_75_b} is at the 75th percentile,\")\n",
                "print(f\"{percentile_25_b} is at the 25th percentile and\") \n",
                "print(f\"{percentile_50_b} is at the 50th percentile.\")\n"
            ]
        },
        {
            "cell_type": "code",
            "execution_count": 20,
            "id": "d2f3ddb1",
            "metadata": {},
            "outputs": [
                {
                    "data": {
                        "image/png": "[encoded data removed]",
                        "text/plain": [
                            "<Figure size 1000x500 with 1 Axes>"
                        ]
                    },
                    "metadata": {},
                    "output_type": "display_data"
                },
                {
                    "name": "stdout",
                    "output_type": "stream",
                    "text": [
                        "Explanation for this would be, because of the smaller sample size and the degree of freedom is 3 which is\n",
                        " a moderate skew thus making the graph appear to look like a normal distribution on the histogram.\n"
                    ]
                }
            ],
            "source": [
                "b = np.random.chisquare(df= 3, size= 100)\n",
                "\n",
                "plt.figure(figsize = (10, 5))\n",
                "\n",
                "plt.hist(a, bins = 30, alpha = 0.7)\n",
                "\n",
                "plt.title(\"Appears to mimic normal distribution bell curve - Shape Measure of Vector B \")\n",
                "plt.show()\n",
                "\n",
                "print(f\"Explanation for this would be, because of the smaller sample size and the degree of freedom is 3 which is\\n a moderate skew thus making the graph appear to look like a normal distribution on the histogram.\")\n",
                "\n"
            ]
        },
        {
            "cell_type": "code",
            "execution_count": 21,
            "id": "1fc81d8c",
            "metadata": {},
            "outputs": [
                {
                    "name": "stdout",
                    "output_type": "stream",
                    "text": [
                        "The kurtosis measurement of Vector 2 is; -0.5933819168295109 the score actually is consistent with the \n",
                        " visualization of the histogram, which shows less concentration on the tail and more spread out across the vector.\n"
                    ]
                }
            ],
            "source": [
                "kurtosis_of_vector_b = kurtosis(b)\n",
                "\n",
                "print(f\"The kurtosis measurement of Vector 2 is; {kurtosis_of_vector_a} the score actually is consistent with the \\n visualization of the histogram, which shows less concentration on the tail and more spread out across the vector.\")"
            ]
        },
        {
            "cell_type": "markdown",
            "id": "46c70c3d",
            "metadata": {},
            "source": [
                "### Exercise 2\n",
                "\n",
                "Write a Python program to calculate the standard deviation of the following data:\n",
                "\n",
                "```py\n",
                "data = [4, 2, 5, 8, 6]\n",
                "```"
            ]
        },
        {
            "cell_type": "code",
            "execution_count": 24,
            "id": "d590308e",
            "metadata": {},
            "outputs": [
                {
                    "name": "stdout",
                    "output_type": "stream",
                    "text": [
                        "The standard deviation for the data above is 2.0.\n"
                    ]
                }
            ],
            "source": [
                "x = [4, 2, 5, 8, 6]\n",
                "sd_x = np.std(x)\n",
                "\n",
                "print(f\"The standard deviation for the data above is {sd_x}.\")\n",
                "\n",
                "\n"
            ]
        }
    ],
    "metadata": {
        "kernelspec": {
            "display_name": "Python 3",
            "language": "python",
            "name": "python3"
        },
        "language_info": {
            "codemirror_mode": {
                "name": "ipython",
                "version": 3
            },
            "file_extension": ".py",
            "mimetype": "text/x-python",
            "name": "python",
            "nbconvert_exporter": "python",
            "pygments_lexer": "ipython3",
            "version": "3.11.4"
        }
    },
    "nbformat": 4,
    "nbformat_minor": 5
}
