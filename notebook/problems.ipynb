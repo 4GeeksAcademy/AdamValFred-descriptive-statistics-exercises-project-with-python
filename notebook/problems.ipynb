{
    "cells": [
        {
            "cell_type": "markdown",
            "id": "ac622319",
            "metadata": {},
            "source": [
                "# Descriptive statistics problems"
            ]
        },
        {
            "cell_type": "markdown",
            "id": "5e0ab0d5",
            "metadata": {},
            "source": [
                "### Exercise 1\n",
                "\n",
                "We will use NumPy to obtain information to describe statistically.\n",
                "\n",
                "- Generate an array of 100 elements following a normal distribution.\n",
                "- Generate an array of 100 elements following a chi-square distribution with 3 degrees of freedom.\n",
                "- Calculate the main metrics and statistical measures that best describe the two vectors."
            ]
        },
        {
            "cell_type": "code",
            "execution_count": 39,
            "id": "34720ab6",
            "metadata": {},
            "outputs": [
                {
                    "name": "stdout",
                    "output_type": "stream",
                    "text": [
                        "The follwing is an array of 100 elements following a normal distribution / I love fred;\n",
                        "[50.47174489 49.60211789 51.49069709 50.3627737  52.64789813 50.32690017\n",
                        " 49.75586968 50.47453332 50.67217851 49.74651463 50.27763734 48.19138201\n",
                        " 50.72380113 50.07010209 52.22178862 51.23636401 51.07942766 49.42585615\n",
                        " 49.26662369 49.55161521 49.50904241 50.84863217 49.69081148 50.19006435\n",
                        " 52.24102978 51.54875326 48.29198293 50.18737758 49.50974095 49.50203003\n",
                        " 50.08470595 49.99542055 50.09667187 48.46317224 50.73817044 50.3344053\n",
                        " 50.01417635 49.07231735 49.86146266 50.0970359  51.76250856 48.3829708\n",
                        " 50.30219866 51.321834   48.14285329 48.65915524 49.25076001 49.94201338\n",
                        " 50.04243749 51.18164264 50.46600307 50.00094685 48.70530696 50.88657105\n",
                        " 51.07479754 51.68423687 50.36808979 50.06638266 51.63453872 48.67646748\n",
                        " 48.08984512 49.50029606 50.52835668 51.01215255 50.41428945 48.98128627\n",
                        " 50.10660017 50.66365647 50.71599047 50.06984416 50.95498288 49.38007912\n",
                        " 51.95766069 52.27073294 50.13959789 48.5643326  50.05070855 48.83413881\n",
                        " 51.04891818 50.596547   50.82690411 49.96320987 49.09433175 49.76593739\n",
                        " 49.0629759  50.81228246 50.09007535 50.82583495 51.21295114 51.15954188\n",
                        " 50.62517021 48.82868677 50.23404393 50.81948349 49.71008024 51.9384049\n",
                        " 49.65574934 49.57663917 51.05893916 50.94057246].\n"
                    ]
                }
            ],
            "source": [
                "import numpy as np\n",
                "from scipy import stats\n",
                "from collections import Counter\n",
                "\n",
                "a = np.random.normal(loc= 50, scale=1, size=100)\n",
                "\n",
                "print(f\"The follwing is an array of 100 elements following a normal distribution / I love fred;\\n{a}.\")\n",
                "\n"
            ]
        },
        {
            "cell_type": "code",
            "execution_count": 40,
            "id": "f22c682c",
            "metadata": {},
            "outputs": [
                {
                    "name": "stdout",
                    "output_type": "stream",
                    "text": [
                        "The mean for the first vector is; 50.20506375022855.\n"
                    ]
                }
            ],
            "source": [
                "mean_of_a = np.mean(a)\n",
                "print(f\"The mean for the first vector is; {mean_of_a}.\")"
            ]
        },
        {
            "cell_type": "code",
            "execution_count": 41,
            "id": "cfaf088e",
            "metadata": {},
            "outputs": [
                {
                    "name": "stdout",
                    "output_type": "stream",
                    "text": [
                        "The median for the first vector is; 50.20506375022855.\n"
                    ]
                }
            ],
            "source": [
                "median_of_a = np.median(a)\n",
                "print(f\"The median for the first vector is; {mean_of_a}.\")"
            ]
        },
        {
            "cell_type": "code",
            "execution_count": 44,
            "id": "50b62f52",
            "metadata": {},
            "outputs": [
                {
                    "name": "stdout",
                    "output_type": "stream",
                    "text": [
                        "The mode for the first vector is; <function mode at 0x7af2694e1b20>.\n"
                    ]
                }
            ],
            "source": [
                "mode_of_a = stats.mode\n",
                "print(f\"The mode for the first vector is; {mode_of_a}.\")"
            ]
        },
        {
            "cell_type": "code",
            "execution_count": 46,
            "id": "15c3081a",
            "metadata": {},
            "outputs": [
                {
                    "name": "stdout",
                    "output_type": "stream",
                    "text": [
                        "The range for the first vector is; 4.558053012827031.\n"
                    ]
                }
            ],
            "source": [
                "range_of_a = max(a) - min(a)\n",
                "print(f\"The range for the first vector is; {range_of_a}.\")"
            ]
        },
        {
            "cell_type": "code",
            "execution_count": 53,
            "id": "00c4d160",
            "metadata": {},
            "outputs": [
                {
                    "name": "stdout",
                    "output_type": "stream",
                    "text": [
                        "The variance for the first vector is; 0.9870981312855062.\n",
                        "\n",
                        "The standard deviation for the first vector is; 0.9985333341858494.\n"
                    ]
                }
            ],
            "source": [
                "variance_of_a = stats.moment(a, moment= 2)\n",
                "sd_of_a = stats.tstd(a)\n",
                "\n",
                "print(f\"The variance for the first vector is; {variance_of_a}.\")\n",
                "print(f\"\\nThe standard deviation for the first vector is; {sd_of_a}.\")"
            ]
        },
        {
            "cell_type": "code",
            "execution_count": 67,
            "id": "ae9a6907",
            "metadata": {},
            "outputs": [
                {
                    "name": "stdout",
                    "output_type": "stream",
                    "text": [
                        "The first vector can be illustrated in Percentile position measure, 50.8323361289219 is at the 75th percentile,\n",
                        "49.57038317904549 is at the 25th percentile and\n",
                        "50.163487732048026 is at the 50th percentile.\n"
                    ]
                }
            ],
            "source": [
                "percentile_75 = np.percentile(a, 75)\n",
                "percentile_25 = np.percentile(a, 25)\n",
                "percentile_50 = np.percentile(a, 50)\n",
                "\n",
                "\n",
                "\n",
                "print(f\"The first vector can be illustrated in Percentile position measure, {percentile_75} is at the 75th percentile,\")\n",
                "print(f\"{percentile_25} is at the 25th percentile and\") \n",
                "print(f\"{percentile_50} is at the 50th percentile.\")\n",
                "\n"
            ]
        },
        {
            "cell_type": "code",
            "execution_count": 29,
            "id": "026d48b8",
            "metadata": {},
            "outputs": [
                {
                    "name": "stdout",
                    "output_type": "stream",
                    "text": [
                        "The follwing is an array of 100 elements following a chi-square distribution with 3 degrees of freedom; \n",
                        " [ 2.35596005  3.28643976  5.06493657  3.45009884  3.12361837  4.34986792\n",
                        "  1.09280058  1.23363326  2.88740804  4.22997136  2.92211568  0.52225307\n",
                        "  1.24224308  0.49145872  2.43263392  1.92004989  1.35113963  2.26785688\n",
                        "  4.51891058  2.46520507  2.14168279  1.36749454  3.92292786  1.31520686\n",
                        "  1.87642227  2.67625719  3.68062512 10.2493547   7.58739146  1.62678809\n",
                        "  0.72572186  1.35238857  1.98841005  5.59416998  1.92055593  6.4521564\n",
                        "  1.19355688  0.16637549  5.18709355  8.83098129  2.61771367  6.62372383\n",
                        "  6.76004354  3.12256817  0.94222965  4.90782558  4.74377313  1.76175151\n",
                        "  3.50876722  6.93743475  1.19610222  5.82545655  1.50986132  5.60938837\n",
                        "  8.00634287  3.55051367  3.03830641  0.74302137  5.31162543  6.6092311\n",
                        "  3.96682869  8.4808377   3.1252611   0.97904105  3.03598361  2.97939479\n",
                        "  0.99163966  1.92431381  0.37853983  6.47471572  0.51516005  4.92580721\n",
                        "  2.04968244  3.39338353  4.34409502  0.96998816  3.00238394  6.95346787\n",
                        "  1.60410293  1.17156586  4.52523651  4.09111613  2.26644894  6.88983048\n",
                        "  5.202192    5.9214263   0.9304198   7.94141025  1.98299499  1.61661504\n",
                        "  2.2194269   6.24044293  4.25003996  3.23889944  1.09020084 13.98176549\n",
                        "  3.99486706  0.92304231 10.95037581  1.77108579]\n"
                    ]
                }
            ],
            "source": [
                "b = np.random.chisquare(df= 3, size= 100)\n",
                "\n",
                "print(f\"The follwing is an array of 100 elements following a chi-square distribution with 3 degrees of freedom; \\n {b}\")"
            ]
        },
        {
            "cell_type": "code",
            "execution_count": null,
            "id": "5ff84bff",
            "metadata": {},
            "outputs": [],
            "source": []
        },
        {
            "cell_type": "markdown",
            "id": "46c70c3d",
            "metadata": {},
            "source": [
                "### Exercise 2\n",
                "\n",
                "Write a Python program to calculate the standard deviation of the following data:\n",
                "\n",
                "```py\n",
                "data = [4, 2, 5, 8, 6]\n",
                "```"
            ]
        },
        {
            "cell_type": "code",
            "execution_count": 30,
            "id": "d590308e",
            "metadata": {},
            "outputs": [],
            "source": [
                "# TODO"
            ]
        }
    ],
    "metadata": {
        "kernelspec": {
            "display_name": "Python 3",
            "language": "python",
            "name": "python3"
        },
        "language_info": {
            "codemirror_mode": {
                "name": "ipython",
                "version": 3
            },
            "file_extension": ".py",
            "mimetype": "text/x-python",
            "name": "python",
            "nbconvert_exporter": "python",
            "pygments_lexer": "ipython3",
            "version": "3.11.4"
        }
    },
    "nbformat": 4,
    "nbformat_minor": 5
}
