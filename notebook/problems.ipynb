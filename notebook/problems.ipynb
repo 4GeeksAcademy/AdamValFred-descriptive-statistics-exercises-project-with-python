{
    "cells": [
        {
            "cell_type": "markdown",
            "id": "ac622319",
            "metadata": {},
            "source": [
                "# Descriptive statistics problems"
            ]
        },
        {
            "cell_type": "markdown",
            "id": "5e0ab0d5",
            "metadata": {},
            "source": [
                "### Exercise 1\n",
                "\n",
                "We will use NumPy to obtain information to describe statistically.\n",
                "\n",
                "- Generate an array of 100 elements following a normal distribution.\n",
                "- Generate an array of 100 elements following a chi-square distribution with 3 degrees of freedom.\n",
                "- Calculate the main metrics and statistical measures that best describe the two vectors."
            ]
        },
        {
            "cell_type": "code",
            "execution_count": 24,
            "id": "34720ab6",
            "metadata": {},
            "outputs": [
                {
                    "name": "stdout",
                    "output_type": "stream",
                    "text": [
                        "The follwing is an array of 100 elements following a normal distribution / I love fred;\n",
                        "[49.44756062 51.98723143 49.63027467 49.59855275 50.15377182 49.53663906\n",
                        " 50.40744666 52.23320839 50.17213783 50.0098381  51.40004086 48.84268308\n",
                        " 48.67159012 47.94390835 51.51527792 48.97417331 51.19040023 51.18060968\n",
                        " 49.83201113 50.33847799 49.39450729 49.35774015 50.59919112 48.25402861\n",
                        " 50.51394257 50.7351061  49.55243004 50.30792437 50.84539714 50.6951266\n",
                        " 48.85243833 49.83472295 50.0938965  49.95526941 49.90174616 48.99076702\n",
                        " 50.20877653 50.69592558 50.53267155 50.21341829 50.73817451 50.34331412\n",
                        " 50.07344319 51.63520238 51.25810116 48.95311543 50.58875439 49.4665418\n",
                        " 51.05961736 50.02418255 48.06836158 50.4310495  49.09030155 50.05423156\n",
                        " 50.21250117 50.37792551 50.57482517 49.05989601 49.50733315 51.71039349\n",
                        " 51.16292672 49.66205252 49.87729863 49.09747835 48.59137831 50.0247342\n",
                        " 49.4960135  48.84840789 48.87533006 50.54143566 49.73298523 50.08326872\n",
                        " 51.18736576 50.16421898 50.18894269 50.54328822 49.82107082 51.4724617\n",
                        " 50.88993417 51.41970348 48.48144148 49.99204505 50.64564589 49.54252722\n",
                        " 48.06716617 50.19150856 48.52863396 50.08241544 50.36304058 50.12521795\n",
                        " 48.58455848 50.90083119 50.75850904 49.52815668 51.66135877 49.76791462\n",
                        " 49.37233707 50.31608273 49.52287169 50.80189892].\n"
                    ]
                }
            ],
            "source": [
                "import numpy as np\n",
                "from scipy import stats\n",
                "from collections import Counter\n",
                "import matplotlib.pyplot as plt\n",
                "from scipy.stats import kurtosis\n",
                "\n",
                "\n",
                "a = np.random.normal(loc= 50, scale=1, size=100)\n",
                "\n",
                "print(f\"The follwing is an array of 100 elements following a normal distribution / I love fred;\\n{a}.\")\n",
                "\n"
            ]
        },
        {
            "cell_type": "code",
            "execution_count": 25,
            "id": "f22c682c",
            "metadata": {},
            "outputs": [
                {
                    "name": "stdout",
                    "output_type": "stream",
                    "text": [
                        "The mean for the first vector is; 50.04742583041823.\n"
                    ]
                }
            ],
            "source": [
                "mean_of_a = np.mean(a)\n",
                "print(f\"The mean for the first vector is; {mean_of_a}.\")"
            ]
        },
        {
            "cell_type": "code",
            "execution_count": 26,
            "id": "cfaf088e",
            "metadata": {},
            "outputs": [
                {
                    "name": "stdout",
                    "output_type": "stream",
                    "text": [
                        "The median for the first vector is; 50.04742583041823.\n"
                    ]
                }
            ],
            "source": [
                "median_of_a = np.median(a)\n",
                "print(f\"The median for the first vector is; {mean_of_a}.\")"
            ]
        },
        {
            "cell_type": "code",
            "execution_count": 27,
            "id": "50b62f52",
            "metadata": {},
            "outputs": [
                {
                    "name": "stdout",
                    "output_type": "stream",
                    "text": [
                        "The mode for the first vector is; <function mode at 0x710b4eaa0040>.\n"
                    ]
                }
            ],
            "source": [
                "mode_of_a = stats.mode\n",
                "print(f\"The mode for the first vector is; {mode_of_a}.\")"
            ]
        },
        {
            "cell_type": "code",
            "execution_count": 28,
            "id": "15c3081a",
            "metadata": {},
            "outputs": [
                {
                    "name": "stdout",
                    "output_type": "stream",
                    "text": [
                        "The range for the first vector is; 4.289300043295626.\n"
                    ]
                }
            ],
            "source": [
                "range_of_a = max(a) - min(a)\n",
                "print(f\"The range for the first vector is; {range_of_a}.\")"
            ]
        },
        {
            "cell_type": "code",
            "execution_count": 29,
            "id": "00c4d160",
            "metadata": {},
            "outputs": [
                {
                    "name": "stdout",
                    "output_type": "stream",
                    "text": [
                        "The variance for the first vector is; 0.832483726363221.\n",
                        "\n",
                        "The standard deviation for the first vector is; 0.9170019917601828.\n"
                    ]
                }
            ],
            "source": [
                "variance_of_a = stats.moment(a, moment= 2)\n",
                "sd_of_a = stats.tstd(a)\n",
                "\n",
                "print(f\"The variance for the first vector is; {variance_of_a}.\")\n",
                "print(f\"\\nThe standard deviation for the first vector is; {sd_of_a}.\")"
            ]
        },
        {
            "cell_type": "code",
            "execution_count": 30,
            "id": "ae9a6907",
            "metadata": {},
            "outputs": [
                {
                    "name": "stdout",
                    "output_type": "stream",
                    "text": [
                        "The first vector can be illustrated in Percentile position measure, 50.61080481163512 is at the 75th percentile,\n",
                        "49.50450323469928 is at the 25th percentile and\n",
                        "50.08858261268793 is at the 50th percentile.\n"
                    ]
                }
            ],
            "source": [
                "percentile_75 = np.percentile(a, 75)\n",
                "percentile_25 = np.percentile(a, 25)\n",
                "percentile_50 = np.percentile(a, 50)\n",
                "\n",
                "\n",
                "\n",
                "print(f\"The first vector can be illustrated in Percentile position measure, {percentile_75} is at the 75th percentile,\")\n",
                "print(f\"{percentile_25} is at the 25th percentile and\") \n",
                "print(f\"{percentile_50} is at the 50th percentile.\")\n",
                "\n"
            ]
        },
        {
            "cell_type": "code",
            "execution_count": 36,
            "id": "0c81f677",
            "metadata": {},
            "outputs": [
                {
                    "data": {
                        "image/png": "[encoded data removed]",
                        "text/plain": [
                            "<Figure size 1000x500 with 1 Axes>"
                        ]
                    },
                    "metadata": {},
                    "output_type": "display_data"
                }
            ],
            "source": [
                "a = np.random.normal(loc= 50, scale=1, size=100)\n",
                "\n",
                "plt.figure(figsize = (10, 5))\n",
                "\n",
                "plt.hist(a, bins = 30, alpha = 0.7)\n",
                "\n",
                "plt.title(\"Appears to resemble Symmetrical Normal Distribution - Shape Measure of Vector 1 \")\n",
                "plt.show()\n",
                "\n"
            ]
        },
        {
            "cell_type": "code",
            "execution_count": 39,
            "id": "ee17d792",
            "metadata": {},
            "outputs": [
                {
                    "name": "stdout",
                    "output_type": "stream",
                    "text": [
                        "The kurtosis measurement of Vector 1 is; -0.04810581741943576 which is very close to normal distribution\n"
                    ]
                }
            ],
            "source": [
                "kurtosis_of_vector_a = kurtosis(a)\n",
                "\n",
                "print(f\"The kurtosis measurement of Vector 1 is; {kurtosis_of_vector_a} which is very close to normal distribution\")"
            ]
        },
        {
            "cell_type": "code",
            "execution_count": 32,
            "id": "026d48b8",
            "metadata": {},
            "outputs": [
                {
                    "name": "stdout",
                    "output_type": "stream",
                    "text": [
                        "The follwing is an array of 100 elements following a chi-square distribution with 3 degrees of freedom; \n",
                        " [ 3.68436378  3.80419827  9.68934638  5.881789    2.35147032  0.74132459\n",
                        "  1.31354078  3.88280888  1.47435341  2.25421165  3.14248835  0.98800841\n",
                        "  0.85038962  5.7480908   1.86064838  1.53722956  1.15169217  3.46678723\n",
                        "  3.76064875  0.928034    2.59611154  1.99521895  3.82094593  5.61538548\n",
                        "  0.48651653  0.48556204  0.12921982  0.31341996  4.38202468  7.66480028\n",
                        "  1.83202502  3.43696043  3.46001104  1.89133322  3.5131685   1.5368419\n",
                        "  1.53643423  3.32591645  1.9043366   1.52247629  4.27474622  0.10922188\n",
                        "  4.57557631  5.09023825  1.67758935  0.76079437  3.35403685  3.00594592\n",
                        "  1.85361385  3.37327644  5.59040516  4.18335408  5.12196519  1.96587245\n",
                        "  3.05989637 11.34580996  2.39635157  7.25560691  5.13302003  4.58650504\n",
                        "  1.78217278  0.3239533   7.40748784  4.49717714  0.51104756  1.04284555\n",
                        "  3.6033134   2.97382569  0.21926479  3.7062237   0.67409244  1.7901468\n",
                        "  1.89383119  1.045565    1.80246659  0.56846529  3.75007135  4.57044616\n",
                        "  0.9966366   2.65028883  2.77117809  6.63155582  2.22521377  8.88568939\n",
                        "  2.76094546  4.18693199  1.37594774  2.40917839  2.27432907  0.43413365\n",
                        "  2.15199606  2.60747841  2.59124001  4.04247636  1.57176264  3.83478607\n",
                        "  8.36561705  0.57484987  6.78926187  3.88955736]\n"
                    ]
                }
            ],
            "source": [
                "b = np.random.chisquare(df= 3, size= 100)\n",
                "\n",
                "print(f\"The follwing is an array of 100 elements following a chi-square distribution with 3 degrees of freedom; \\n {b}\")"
            ]
        },
        {
            "cell_type": "code",
            "execution_count": null,
            "id": "5ff84bff",
            "metadata": {},
            "outputs": [],
            "source": []
        },
        {
            "cell_type": "markdown",
            "id": "46c70c3d",
            "metadata": {},
            "source": [
                "### Exercise 2\n",
                "\n",
                "Write a Python program to calculate the standard deviation of the following data:\n",
                "\n",
                "```py\n",
                "data = [4, 2, 5, 8, 6]\n",
                "```"
            ]
        },
        {
            "cell_type": "code",
            "execution_count": 33,
            "id": "d590308e",
            "metadata": {},
            "outputs": [],
            "source": [
                "# TODO"
            ]
        }
    ],
    "metadata": {
        "kernelspec": {
            "display_name": "Python 3",
            "language": "python",
            "name": "python3"
        },
        "language_info": {
            "codemirror_mode": {
                "name": "ipython",
                "version": 3
            },
            "file_extension": ".py",
            "mimetype": "text/x-python",
            "name": "python",
            "nbconvert_exporter": "python",
            "pygments_lexer": "ipython3",
            "version": "3.11.4"
        }
    },
    "nbformat": 4,
    "nbformat_minor": 5
}
